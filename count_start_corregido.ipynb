{
  "cells": [
    {
      "cell_type": "markdown",
      "metadata": {
        "id": "view-in-github",
        "colab_type": "text"
      },
      "source": [
        "<a href=\"https://colab.research.google.com/github/Linameji88/miSitio/blob/main/count_start_corregido.ipynb\" target=\"_parent\"><img src=\"https://colab.research.google.com/assets/colab-badge.svg\" alt=\"Open In Colab\"/></a>"
      ]
    },
    {
      "cell_type": "markdown",
      "source": [
        "#Taller\n",
        "\n",
        "Desarrolle un programa Python para contar el número total de estrellas en 100 imágenes ubicadas en el directorio \"stars/\" Utilice Matplotlib para el procesamiento y visualización de imágenes.\n",
        "\n",
        "\n",
        "\n",
        "1.   Cargue las 100 imágenes del directorio \"stars/\"\n",
        "\n"
      ],
      "metadata": {
        "id": "bL6xP_EwjVol"
      }
    },
    {
      "cell_type": "code",
      "execution_count": 14,
      "metadata": {
        "colab": {
          "base_uri": "https://localhost:8080/"
        },
        "id": "rUKBafWlzf3G",
        "outputId": "5ee19b0d-5a5f-420f-d71a-ff30d45d279f"
      },
      "outputs": [
        {
          "output_type": "stream",
          "name": "stdout",
          "text": [
            "['94.png', '87.png', '14.png', '41.png', '88.png', '54.png', '65.png', '97.png', '7.png', '20.png', '36.png', '51.png', '80.png', '70.png', '11.png', '2.png', '60.png', '18.png', '32.png', '78.png', '4.png', '95.png', '38.png', '23.png', '99.png', '47.png', '59.png', '1.png', '61.png', '5.png', '30.png', '89.png', '35.png', '68.png', '93.png', '31.png', '6.png', '15.png', '29.png', '42.png', '82.png', '81.png', '21.png', '73.png', '40.png', '67.png', '39.png', '37.png', '75.png', '52.png', '53.png', '43.png', '100.png', '46.png', '27.png', '8.png', '57.png', '50.png', '10.png', '76.png', '86.png', '34.png', '79.png', '64.png', '72.png', '83.png', '96.png', '77.png', '92.png', '28.png', '22.png', '9.png', '55.png', '13.png', '3.png', '44.png', '69.png', '56.png', '24.png', '66.png', '98.png', '33.png', '49.png', '85.png', '19.png', '71.png', '16.png', '45.png', '25.png', '90.png', '62.png', '91.png', '26.png', '48.png', '12.png', '58.png', '84.png', '17.png', '74.png', '63.png']\n"
          ]
        }
      ],
      "source": [
        "import os\n",
        "\n",
        "def load_images_from_directory(directory):\n",
        "    \"\"\"\n",
        "    Lista todos los archivos .png en el directorio dado.\n",
        "    \"\"\"\n",
        "    files = os.listdir(directory)\n",
        "    image_files = [f for f in files if f.lower().endswith('.png')]\n",
        "    return image_files\n",
        "\n",
        "# Prueba la función listando las imágenes en \"stars\"\n",
        "print(load_images_from_directory(\"stars\"))\n"
      ]
    },
    {
      "cell_type": "code",
      "execution_count": 15,
      "metadata": {
        "id": "uNBDHa5xzzHs"
      },
      "outputs": [],
      "source": [
        "import numpy as np\n",
        "\n",
        "def rgb2gray(image):\n",
        "\n",
        "    if len(image.shape) == 3:\n",
        "        return np.dot(image[...,:3], [0.2989, 0.5870, 0.1140])\n",
        "    else:\n",
        "        return image\n"
      ]
    },
    {
      "cell_type": "markdown",
      "source": [
        "\n",
        "\n",
        "\n",
        "2.   Procesa cada imagen para contar el número de estrellas.\n",
        "\n",
        "3.   Resuma el recuento total de estrellas en todas las imágenes.\n",
        "\n",
        "4.   Garantizar la precisión: El error relativo de su recuento de estrellas no debe superar el 5 % (es decir, la precisión del 95 %).\n",
        "\n",
        "5.   Visualice al menos una imagen procesada con Matplotlib, mostrando cómo se detectan las estrellas.\n"
      ],
      "metadata": {
        "id": "tKIJ1HqyjZof"
      }
    },
    {
      "cell_type": "code",
      "execution_count": 16,
      "metadata": {
        "id": "OECqatoB0A4Y"
      },
      "outputs": [],
      "source": [
        "def threshold_image(gray_image, threshold):\n",
        "    return (gray_image > threshold).astype(np.uint8)\n"
      ]
    },
    {
      "cell_type": "markdown",
      "metadata": {
        "id": "Z-ztN7lb0JJD"
      },
      "source": [
        "Función \"Flood Fill\" para Detectar Componentes Conexos\n",
        "Utilizaremos un algoritmo de \"flood fill\" (relleno por difusión) para identificar grupos de píxeles conectados, considerando que cada grupo corresponde a una estrella.\n",
        "En una nueva celda, copia y ejecuta:"
      ]
    },
    {
      "cell_type": "code",
      "execution_count": 17,
      "metadata": {
        "id": "NAqxy1hq0Re9"
      },
      "outputs": [],
      "source": [
        "def flood_fill(binary, i, j, visited):\n",
        "    stack = [(i, j)]\n",
        "    while stack:\n",
        "        x, y = stack.pop()\n",
        "        if visited[x, y]:\n",
        "            continue\n",
        "        visited[x, y] = True\n",
        "        # Revisa los 8 vecinos\n",
        "        for dx in [-1, 0, 1]:\n",
        "            for dy in [-1, 0, 1]:\n",
        "                if dx == 0 and dy == 0:\n",
        "                    continue\n",
        "                nx, ny = x + dx, y + dy\n",
        "                if 0 <= nx < binary.shape[0] and 0 <= ny < binary.shape[1]:\n",
        "                    if binary[nx, ny] == 1 and not visited[nx, ny]:\n",
        "                        stack.append((nx, ny))\n"
      ]
    },
    {
      "cell_type": "code",
      "execution_count": 18,
      "metadata": {
        "id": "JrBNaQYi0fsj"
      },
      "outputs": [],
      "source": [
        "def count_connected_components(binary):\n",
        "\n",
        "    visited = np.zeros(binary.shape, dtype=bool)\n",
        "    count = 0\n",
        "    for i in range(binary.shape[0]):\n",
        "        for j in range(binary.shape[1]):\n",
        "            if binary[i, j] == 1 and not visited[i, j]:\n",
        "                count += 1\n",
        "                flood_fill(binary, i, j, visited)\n",
        "    return count\n"
      ]
    },
    {
      "cell_type": "code",
      "execution_count": 19,
      "metadata": {
        "colab": {
          "base_uri": "https://localhost:8080/"
        },
        "id": "2zircYHd0m3Y",
        "outputId": "32e89357-e9a5-49ee-a1e0-54b83334dfc3"
      },
      "outputs": [
        {
          "output_type": "stream",
          "name": "stdout",
          "text": [
            "Estrellas detectadas en la imagen: 36\n"
          ]
        }
      ],
      "source": [
        "import matplotlib.pyplot as plt\n",
        "\n",
        "def process_image(image_path, threshold=0.8):\n",
        "\n",
        "    img = plt.imread(image_path)\n",
        "    gray = rgb2gray(img)\n",
        "    # Normalizar si los valores están en [0, 255]\n",
        "    if gray.max() > 1:\n",
        "        gray = gray / 255.0\n",
        "    binary = threshold_image(gray, threshold)\n",
        "    star_count = count_connected_components(binary)\n",
        "    return star_count, img, binary\n",
        "\n",
        "# Para probar esta función, ejecuta:\n",
        "test_image_path = os.path.join(\"stars\", load_images_from_directory(\"stars\")[0])\n",
        "count, orig, binary_img = process_image(test_image_path)\n",
        "print(\"Estrellas detectadas en la imagen:\", count)\n"
      ]
    },
    {
      "cell_type": "code",
      "execution_count": 20,
      "metadata": {
        "colab": {
          "base_uri": "https://localhost:8080/",
          "height": 470
        },
        "id": "82cK7VKA0x7t",
        "outputId": "b24f31cb-2613-4636-fdaa-e1ebcd913f84"
      },
      "outputs": [
        {
          "output_type": "stream",
          "name": "stdout",
          "text": [
            "Total de estrellas contadas en todas las imágenes: 5265\n"
          ]
        },
        {
          "output_type": "display_data",
          "data": {
            "text/plain": [
              "<Figure size 1200x600 with 2 Axes>"
            ],
            "image/png": "[encoded data removed]"
          },
          "metadata": {}
        }
      ],
      "source": [
        "def main():\n",
        "    directory = \"stars\"\n",
        "    image_files = load_images_from_directory(directory)\n",
        "    total_stars = 0\n",
        "\n",
        "    for filename in image_files:\n",
        "        image_path = os.path.join(directory, filename)\n",
        "        star_count, _, _ = process_image(image_path, threshold=0.8)\n",
        "        total_stars += star_count\n",
        "\n",
        "    print(\"Total de estrellas contadas en todas las imágenes:\", total_stars)\n",
        "\n",
        "    # Visualiza la detección en la primera imagen\n",
        "    if image_files:\n",
        "        image_path = os.path.join(directory, image_files[0])\n",
        "        star_count, img, binary = process_image(image_path, threshold=0.8)\n",
        "        fig, axs = plt.subplots(1, 2, figsize=(12, 6))\n",
        "        axs[0].imshow(img, cmap=\"gray\")\n",
        "        axs[0].set_title(\"Imagen Original\")\n",
        "        axs[1].imshow(binary, cmap=\"gray\")\n",
        "        axs[1].set_title(f\"Detección (Estrellas: {star_count})\")\n",
        "        plt.show()\n",
        "\n",
        "# Ejecuta la función principal:\n",
        "main()\n"
      ]
    },
    {
      "cell_type": "markdown",
      "source": [
        "#Metodología:\n",
        "\n",
        "Primero se cargo y normalizo las imágenes, convirtiéndolas a escala de grises. Se agrupan los pixeles d eimagenes de estrellas en cada imagen y se cuentan en su totalidad"
      ],
      "metadata": {
        "id": "1VjUqXjtjilj"
      }
    },
    {
      "cell_type": "markdown",
      "source": [
        "#Desafíos:\n",
        "Se tuvo al inicio al definir una matriz de convolucion ya que contaba los pixeles alrededor de las estrellas, lo que generaba una gran cantidad para cada imagen. Por esto mismo no se uso matriz de convolución."
      ],
      "metadata": {
        "id": "EqXrQFXBjuOb"
      }
    }
  ],
  "metadata": {
    "colab": {
      "provenance": [],
      "mount_file_id": "1cE6pHoH8leC9Yb5YouNNjHpanjNH-GU2",
      "authorship_tag": "ABX9TyNhwvsJQ4WEqy1XawPHibri",
      "include_colab_link": true
    },
    "kernelspec": {
      "display_name": "Python 3",
      "name": "python3"
    },
    "language_info": {
      "name": "python"
    }
  },
  "nbformat": 4,
  "nbformat_minor": 0
}